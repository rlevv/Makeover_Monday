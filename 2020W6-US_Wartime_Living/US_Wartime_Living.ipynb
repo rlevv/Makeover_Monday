{
 "cells": [
  {
   "cell_type": "code",
   "execution_count": 1,
   "metadata": {},
   "outputs": [],
   "source": [
    "import matplotlib.pyplot as plt\n",
    "import numpy as np\n",
    "import pandas as pd"
   ]
  },
  {
   "cell_type": "markdown",
   "metadata": {},
   "source": [
    "# Makeover Monday 2020 W6 –– US Wartime Living\n",
    "\n",
    "For this week's challenge, we are looking at the percentage of lifetime according to birth year where the USA was at war.\n",
    "\n",
    "Source Article: [Nearly a quarter of Americans have never experienced the U.S. in a time of peace](https://www.washingtonpost.com/politics/2020/01/08/nearly-quarter-americans-have-never-experienced-us-time-peace/)\n",
    "\n",
    "Data Source: [Washington Post](https://www.washingtonpost.com/)\n",
    "\n",
    "Makeover Monday Data: [data.world](https://data.world/makeovermonday/2020w6)"
   ]
  },
  {
   "cell_type": "markdown",
   "metadata": {},
   "source": [
    "## Data Analysis\n",
    "\n",
    "### Loading the Data:"
   ]
  },
  {
   "cell_type": "code",
   "execution_count": 2,
   "metadata": {},
   "outputs": [],
   "source": [
    "df = pd.read_excel(\"US life at war.xlsx\")"
   ]
  },
  {
   "cell_type": "markdown",
   "metadata": {},
   "source": [
    "### Summary Statistics:"
   ]
  },
  {
   "cell_type": "code",
   "execution_count": 3,
   "metadata": {},
   "outputs": [
    {
     "name": "stdout",
     "output_type": "stream",
     "text": [
      "<class 'pandas.core.frame.DataFrame'>\n",
      "RangeIndex: 115 entries, 0 to 114\n",
      "Data columns (total 2 columns):\n",
      "Birth year                               115 non-null int64\n",
      "% of your life the US has been at war    115 non-null float64\n",
      "dtypes: float64(1), int64(1)\n",
      "memory usage: 1.9 KB\n"
     ]
    }
   ],
   "source": [
    "df.info()"
   ]
  },
  {
   "cell_type": "code",
   "execution_count": 4,
   "metadata": {},
   "outputs": [
    {
     "data": {
      "text/html": [
       "<div>\n",
       "<style scoped>\n",
       "    .dataframe tbody tr th:only-of-type {\n",
       "        vertical-align: middle;\n",
       "    }\n",
       "\n",
       "    .dataframe tbody tr th {\n",
       "        vertical-align: top;\n",
       "    }\n",
       "\n",
       "    .dataframe thead th {\n",
       "        text-align: right;\n",
       "    }\n",
       "</style>\n",
       "<table border=\"1\" class=\"dataframe\">\n",
       "  <thead>\n",
       "    <tr style=\"text-align: right;\">\n",
       "      <th></th>\n",
       "      <th>Birth year</th>\n",
       "      <th>% of your life the US has been at war</th>\n",
       "    </tr>\n",
       "  </thead>\n",
       "  <tbody>\n",
       "    <tr>\n",
       "      <th>count</th>\n",
       "      <td>115.000000</td>\n",
       "      <td>115.000000</td>\n",
       "    </tr>\n",
       "    <tr>\n",
       "      <th>mean</th>\n",
       "      <td>1962.000000</td>\n",
       "      <td>0.574635</td>\n",
       "    </tr>\n",
       "    <tr>\n",
       "      <th>std</th>\n",
       "      <td>33.341666</td>\n",
       "      <td>0.221140</td>\n",
       "    </tr>\n",
       "    <tr>\n",
       "      <th>min</th>\n",
       "      <td>1905.000000</td>\n",
       "      <td>0.348000</td>\n",
       "    </tr>\n",
       "    <tr>\n",
       "      <th>25%</th>\n",
       "      <td>1933.500000</td>\n",
       "      <td>0.436000</td>\n",
       "    </tr>\n",
       "    <tr>\n",
       "      <th>50%</th>\n",
       "      <td>1962.000000</td>\n",
       "      <td>0.471000</td>\n",
       "    </tr>\n",
       "    <tr>\n",
       "      <th>75%</th>\n",
       "      <td>1990.500000</td>\n",
       "      <td>0.673000</td>\n",
       "    </tr>\n",
       "    <tr>\n",
       "      <th>max</th>\n",
       "      <td>2019.000000</td>\n",
       "      <td>1.000000</td>\n",
       "    </tr>\n",
       "  </tbody>\n",
       "</table>\n",
       "</div>"
      ],
      "text/plain": [
       "        Birth year  % of your life the US has been at war\n",
       "count   115.000000                             115.000000\n",
       "mean   1962.000000                               0.574635\n",
       "std      33.341666                               0.221140\n",
       "min    1905.000000                               0.348000\n",
       "25%    1933.500000                               0.436000\n",
       "50%    1962.000000                               0.471000\n",
       "75%    1990.500000                               0.673000\n",
       "max    2019.000000                               1.000000"
      ]
     },
     "execution_count": 4,
     "metadata": {},
     "output_type": "execute_result"
    }
   ],
   "source": [
    "df.describe()"
   ]
  },
  {
   "cell_type": "code",
   "execution_count": 5,
   "metadata": {},
   "outputs": [
    {
     "data": {
      "text/html": [
       "<div>\n",
       "<style scoped>\n",
       "    .dataframe tbody tr th:only-of-type {\n",
       "        vertical-align: middle;\n",
       "    }\n",
       "\n",
       "    .dataframe tbody tr th {\n",
       "        vertical-align: top;\n",
       "    }\n",
       "\n",
       "    .dataframe thead th {\n",
       "        text-align: right;\n",
       "    }\n",
       "</style>\n",
       "<table border=\"1\" class=\"dataframe\">\n",
       "  <thead>\n",
       "    <tr style=\"text-align: right;\">\n",
       "      <th></th>\n",
       "      <th>Birth year</th>\n",
       "      <th>% of your life the US has been at war</th>\n",
       "    </tr>\n",
       "  </thead>\n",
       "  <tbody>\n",
       "    <tr>\n",
       "      <th>0</th>\n",
       "      <td>1905</td>\n",
       "      <td>0.348</td>\n",
       "    </tr>\n",
       "    <tr>\n",
       "      <th>1</th>\n",
       "      <td>1906</td>\n",
       "      <td>0.351</td>\n",
       "    </tr>\n",
       "    <tr>\n",
       "      <th>2</th>\n",
       "      <td>1907</td>\n",
       "      <td>0.354</td>\n",
       "    </tr>\n",
       "    <tr>\n",
       "      <th>3</th>\n",
       "      <td>1908</td>\n",
       "      <td>0.357</td>\n",
       "    </tr>\n",
       "    <tr>\n",
       "      <th>4</th>\n",
       "      <td>1909</td>\n",
       "      <td>0.360</td>\n",
       "    </tr>\n",
       "  </tbody>\n",
       "</table>\n",
       "</div>"
      ],
      "text/plain": [
       "   Birth year  % of your life the US has been at war\n",
       "0        1905                                  0.348\n",
       "1        1906                                  0.351\n",
       "2        1907                                  0.354\n",
       "3        1908                                  0.357\n",
       "4        1909                                  0.360"
      ]
     },
     "execution_count": 5,
     "metadata": {},
     "output_type": "execute_result"
    }
   ],
   "source": [
    "df.head()"
   ]
  },
  {
   "cell_type": "markdown",
   "metadata": {},
   "source": [
    "### Initial Graph:"
   ]
  },
  {
   "cell_type": "code",
   "execution_count": 6,
   "metadata": {},
   "outputs": [
    {
     "data": {
      "text/plain": [
       "<matplotlib.axes._subplots.AxesSubplot at 0x11af2aef0>"
      ]
     },
     "execution_count": 6,
     "metadata": {},
     "output_type": "execute_result"
    },
    {
     "data": {
      "image/png": "[encoded data removed]",
      "text/plain": [
       "<Figure size 432x288 with 1 Axes>"
      ]
     },
     "metadata": {
      "needs_background": "light"
     },
     "output_type": "display_data"
    }
   ],
   "source": [
    "df.plot(x=\"Birth year\", y=\"% of your life the US has been at war\")"
   ]
  },
  {
   "cell_type": "markdown",
   "metadata": {},
   "source": [
    "### Data Exploration:"
   ]
  },
  {
   "cell_type": "code",
   "execution_count": 7,
   "metadata": {},
   "outputs": [
    {
     "data": {
      "text/html": [
       "<div>\n",
       "<style scoped>\n",
       "    .dataframe tbody tr th:only-of-type {\n",
       "        vertical-align: middle;\n",
       "    }\n",
       "\n",
       "    .dataframe tbody tr th {\n",
       "        vertical-align: top;\n",
       "    }\n",
       "\n",
       "    .dataframe thead th {\n",
       "        text-align: right;\n",
       "    }\n",
       "</style>\n",
       "<table border=\"1\" class=\"dataframe\">\n",
       "  <thead>\n",
       "    <tr style=\"text-align: right;\">\n",
       "      <th></th>\n",
       "      <th>Birth year</th>\n",
       "      <th>% of your life the US has been at war</th>\n",
       "      <th>War</th>\n",
       "    </tr>\n",
       "  </thead>\n",
       "  <tbody>\n",
       "    <tr>\n",
       "      <th>110</th>\n",
       "      <td>2015</td>\n",
       "      <td>1.0</td>\n",
       "      <td>Afghanistan War</td>\n",
       "    </tr>\n",
       "    <tr>\n",
       "      <th>111</th>\n",
       "      <td>2016</td>\n",
       "      <td>1.0</td>\n",
       "      <td>Afghanistan War</td>\n",
       "    </tr>\n",
       "    <tr>\n",
       "      <th>112</th>\n",
       "      <td>2017</td>\n",
       "      <td>1.0</td>\n",
       "      <td>Afghanistan War</td>\n",
       "    </tr>\n",
       "    <tr>\n",
       "      <th>113</th>\n",
       "      <td>2018</td>\n",
       "      <td>1.0</td>\n",
       "      <td>Afghanistan War</td>\n",
       "    </tr>\n",
       "    <tr>\n",
       "      <th>114</th>\n",
       "      <td>2019</td>\n",
       "      <td>1.0</td>\n",
       "      <td>Afghanistan War</td>\n",
       "    </tr>\n",
       "  </tbody>\n",
       "</table>\n",
       "</div>"
      ],
      "text/plain": [
       "     Birth year  % of your life the US has been at war              War\n",
       "110        2015                                    1.0  Afghanistan War\n",
       "111        2016                                    1.0  Afghanistan War\n",
       "112        2017                                    1.0  Afghanistan War\n",
       "113        2018                                    1.0  Afghanistan War\n",
       "114        2019                                    1.0  Afghanistan War"
      ]
     },
     "execution_count": 7,
     "metadata": {},
     "output_type": "execute_result"
    }
   ],
   "source": [
    "df_wars = pd.DataFrame(np.array([['WW1', 1914, 1918], \n",
    "                                 ['WW2', 1939, 1945], \n",
    "                                 ['Korean War', 1950, 1953],\n",
    "                                 ['Vietnam War', 1955, 1975],\n",
    "                                 ['Gulf War', 1990, 1991],\n",
    "                                 ['Afghanistan War', 2001, 2019]]),\n",
    "                       columns=['War', 'Start Year', 'End Year'])\n",
    "\n",
    "df['War'] = None\n",
    "\n",
    "for index, row in df_wars.iterrows():\n",
    "    for val in range(int(row['Start Year']), int(row['End Year']) + 1):\n",
    "        df.loc[df['Birth year'] == val, 'War'] = row['War']\n",
    "\n",
    "df.tail()"
   ]
  },
  {
   "cell_type": "code",
   "execution_count": 8,
   "metadata": {},
   "outputs": [
    {
     "data": {
      "text/html": [
       "<div>\n",
       "<style scoped>\n",
       "    .dataframe tbody tr th:only-of-type {\n",
       "        vertical-align: middle;\n",
       "    }\n",
       "\n",
       "    .dataframe tbody tr th {\n",
       "        vertical-align: top;\n",
       "    }\n",
       "\n",
       "    .dataframe thead tr th {\n",
       "        text-align: left;\n",
       "    }\n",
       "\n",
       "    .dataframe thead tr:last-of-type th {\n",
       "        text-align: right;\n",
       "    }\n",
       "</style>\n",
       "<table border=\"1\" class=\"dataframe\">\n",
       "  <thead>\n",
       "    <tr>\n",
       "      <th></th>\n",
       "      <th colspan=\"8\" halign=\"left\">Birth year</th>\n",
       "      <th colspan=\"8\" halign=\"left\">% of your life the US has been at war</th>\n",
       "    </tr>\n",
       "    <tr>\n",
       "      <th></th>\n",
       "      <th>count</th>\n",
       "      <th>mean</th>\n",
       "      <th>std</th>\n",
       "      <th>min</th>\n",
       "      <th>25%</th>\n",
       "      <th>50%</th>\n",
       "      <th>75%</th>\n",
       "      <th>max</th>\n",
       "      <th>count</th>\n",
       "      <th>mean</th>\n",
       "      <th>std</th>\n",
       "      <th>min</th>\n",
       "      <th>25%</th>\n",
       "      <th>50%</th>\n",
       "      <th>75%</th>\n",
       "      <th>max</th>\n",
       "    </tr>\n",
       "    <tr>\n",
       "      <th>War</th>\n",
       "      <th></th>\n",
       "      <th></th>\n",
       "      <th></th>\n",
       "      <th></th>\n",
       "      <th></th>\n",
       "      <th></th>\n",
       "      <th></th>\n",
       "      <th></th>\n",
       "      <th></th>\n",
       "      <th></th>\n",
       "      <th></th>\n",
       "      <th></th>\n",
       "      <th></th>\n",
       "      <th></th>\n",
       "      <th></th>\n",
       "      <th></th>\n",
       "    </tr>\n",
       "  </thead>\n",
       "  <tbody>\n",
       "    <tr>\n",
       "      <th>Afghanistan War</th>\n",
       "      <td>19.0</td>\n",
       "      <td>2010.0</td>\n",
       "      <td>5.627314</td>\n",
       "      <td>2001.0</td>\n",
       "      <td>2005.50</td>\n",
       "      <td>2010.0</td>\n",
       "      <td>2014.50</td>\n",
       "      <td>2019.0</td>\n",
       "      <td>19.0</td>\n",
       "      <td>1.000000</td>\n",
       "      <td>0.000000</td>\n",
       "      <td>1.000</td>\n",
       "      <td>1.00000</td>\n",
       "      <td>1.0000</td>\n",
       "      <td>1.00000</td>\n",
       "      <td>1.000</td>\n",
       "    </tr>\n",
       "    <tr>\n",
       "      <th>Gulf War</th>\n",
       "      <td>2.0</td>\n",
       "      <td>1990.5</td>\n",
       "      <td>0.707107</td>\n",
       "      <td>1990.0</td>\n",
       "      <td>1990.25</td>\n",
       "      <td>1990.5</td>\n",
       "      <td>1990.75</td>\n",
       "      <td>1991.0</td>\n",
       "      <td>2.0</td>\n",
       "      <td>0.678500</td>\n",
       "      <td>0.016263</td>\n",
       "      <td>0.667</td>\n",
       "      <td>0.67275</td>\n",
       "      <td>0.6785</td>\n",
       "      <td>0.68425</td>\n",
       "      <td>0.690</td>\n",
       "    </tr>\n",
       "    <tr>\n",
       "      <th>Korean War</th>\n",
       "      <td>4.0</td>\n",
       "      <td>1951.5</td>\n",
       "      <td>1.290994</td>\n",
       "      <td>1950.0</td>\n",
       "      <td>1950.75</td>\n",
       "      <td>1951.5</td>\n",
       "      <td>1952.25</td>\n",
       "      <td>1953.0</td>\n",
       "      <td>4.0</td>\n",
       "      <td>0.459750</td>\n",
       "      <td>0.009946</td>\n",
       "      <td>0.448</td>\n",
       "      <td>0.45400</td>\n",
       "      <td>0.4600</td>\n",
       "      <td>0.46575</td>\n",
       "      <td>0.471</td>\n",
       "    </tr>\n",
       "    <tr>\n",
       "      <th>Vietnam War</th>\n",
       "      <td>21.0</td>\n",
       "      <td>1965.0</td>\n",
       "      <td>6.204837</td>\n",
       "      <td>1955.0</td>\n",
       "      <td>1960.00</td>\n",
       "      <td>1965.0</td>\n",
       "      <td>1970.00</td>\n",
       "      <td>1975.0</td>\n",
       "      <td>21.0</td>\n",
       "      <td>0.480095</td>\n",
       "      <td>0.027729</td>\n",
       "      <td>0.435</td>\n",
       "      <td>0.45800</td>\n",
       "      <td>0.4800</td>\n",
       "      <td>0.50000</td>\n",
       "      <td>0.527</td>\n",
       "    </tr>\n",
       "    <tr>\n",
       "      <th>WW1</th>\n",
       "      <td>5.0</td>\n",
       "      <td>1916.0</td>\n",
       "      <td>1.581139</td>\n",
       "      <td>1914.0</td>\n",
       "      <td>1915.00</td>\n",
       "      <td>1916.0</td>\n",
       "      <td>1917.00</td>\n",
       "      <td>1918.0</td>\n",
       "      <td>5.0</td>\n",
       "      <td>0.382600</td>\n",
       "      <td>0.004159</td>\n",
       "      <td>0.377</td>\n",
       "      <td>0.38100</td>\n",
       "      <td>0.3820</td>\n",
       "      <td>0.38500</td>\n",
       "      <td>0.388</td>\n",
       "    </tr>\n",
       "    <tr>\n",
       "      <th>WW2</th>\n",
       "      <td>7.0</td>\n",
       "      <td>1942.0</td>\n",
       "      <td>2.160247</td>\n",
       "      <td>1939.0</td>\n",
       "      <td>1940.50</td>\n",
       "      <td>1942.0</td>\n",
       "      <td>1943.50</td>\n",
       "      <td>1945.0</td>\n",
       "      <td>7.0</td>\n",
       "      <td>0.468714</td>\n",
       "      <td>0.009358</td>\n",
       "      <td>0.453</td>\n",
       "      <td>0.46450</td>\n",
       "      <td>0.4690</td>\n",
       "      <td>0.47450</td>\n",
       "      <td>0.481</td>\n",
       "    </tr>\n",
       "  </tbody>\n",
       "</table>\n",
       "</div>"
      ],
      "text/plain": [
       "                Birth year                                             \\\n",
       "                     count    mean       std     min      25%     50%   \n",
       "War                                                                     \n",
       "Afghanistan War       19.0  2010.0  5.627314  2001.0  2005.50  2010.0   \n",
       "Gulf War               2.0  1990.5  0.707107  1990.0  1990.25  1990.5   \n",
       "Korean War             4.0  1951.5  1.290994  1950.0  1950.75  1951.5   \n",
       "Vietnam War           21.0  1965.0  6.204837  1955.0  1960.00  1965.0   \n",
       "WW1                    5.0  1916.0  1.581139  1914.0  1915.00  1916.0   \n",
       "WW2                    7.0  1942.0  2.160247  1939.0  1940.50  1942.0   \n",
       "\n",
       "                                 % of your life the US has been at war  \\\n",
       "                     75%     max                                 count   \n",
       "War                                                                      \n",
       "Afghanistan War  2014.50  2019.0                                  19.0   \n",
       "Gulf War         1990.75  1991.0                                   2.0   \n",
       "Korean War       1952.25  1953.0                                   4.0   \n",
       "Vietnam War      1970.00  1975.0                                  21.0   \n",
       "WW1              1917.00  1918.0                                   5.0   \n",
       "WW2              1943.50  1945.0                                   7.0   \n",
       "\n",
       "                                                                             \n",
       "                     mean       std    min      25%     50%      75%    max  \n",
       "War                                                                          \n",
       "Afghanistan War  1.000000  0.000000  1.000  1.00000  1.0000  1.00000  1.000  \n",
       "Gulf War         0.678500  0.016263  0.667  0.67275  0.6785  0.68425  0.690  \n",
       "Korean War       0.459750  0.009946  0.448  0.45400  0.4600  0.46575  0.471  \n",
       "Vietnam War      0.480095  0.027729  0.435  0.45800  0.4800  0.50000  0.527  \n",
       "WW1              0.382600  0.004159  0.377  0.38100  0.3820  0.38500  0.388  \n",
       "WW2              0.468714  0.009358  0.453  0.46450  0.4690  0.47450  0.481  "
      ]
     },
     "execution_count": 8,
     "metadata": {},
     "output_type": "execute_result"
    }
   ],
   "source": [
    "df.groupby('War').describe()"
   ]
  },
  {
   "cell_type": "markdown",
   "metadata": {},
   "source": [
    "### Deeper Data Graph:"
   ]
  },
  {
   "cell_type": "code",
   "execution_count": 9,
   "metadata": {},
   "outputs": [
    {
     "data": {
      "image/png": "[encoded data removed]",
      "text/plain": [
       "<Figure size 432x288 with 1 Axes>"
      ]
     },
     "metadata": {
      "needs_background": "light"
     },
     "output_type": "display_data"
    }
   ],
   "source": [
    "fig, ax = plt.subplots()\n",
    "ax.plot(df['Birth year'], 100*df['% of your life the US has been at war'])\n",
    "ax.set(xlabel = 'Birth Year', \n",
    "       ylabel = '% Life in US Wartime', \n",
    "       title = 'Percentage of American Life Spent in Wartime by Birth Year')\n",
    "\n",
    "colors = ['red', 'cyan', 'yellow', 'green', 'magenta', 'black']\n",
    "for index, row in df_wars.iterrows():\n",
    "    ax.axvspan(int(row['Start Year']), row['End Year'], \n",
    "               color = colors[index], \n",
    "               alpha=0.3, \n",
    "               label = row['War'])\n",
    "ax.legend(bbox_to_anchor=(1, 1))\n",
    "\n",
    "fig.savefig(\"pyplot_Wartime_Living.png\")\n",
    "plt.show()"
   ]
  },
  {
   "cell_type": "markdown",
   "metadata": {},
   "source": [
    "### Tableau Graph:\n",
    "\n",
    "My Tableau graph is published [here](https://public.tableau.com/views/2020W6-US_Wartime_Living/USWartimeLife?:display_count=y&publish=yes&:origin=viz_share_link)."
   ]
  }
 ],
 "metadata": {
  "kernelspec": {
   "display_name": "Python 3",
   "language": "python",
   "name": "python3"
  },
  "language_info": {
   "codemirror_mode": {
    "name": "ipython",
    "version": 3
   },
   "file_extension": ".py",
   "mimetype": "text/x-python",
   "name": "python",
   "nbconvert_exporter": "python",
   "pygments_lexer": "ipython3",
   "version": "3.7.3"
  }
 },
 "nbformat": 4,
 "nbformat_minor": 2
}
