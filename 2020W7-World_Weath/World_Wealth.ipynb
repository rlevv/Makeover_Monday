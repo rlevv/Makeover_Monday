{
 "cells": [
  {
   "cell_type": "code",
   "execution_count": 1,
   "metadata": {},
   "outputs": [],
   "source": [
    "import matplotlib.pyplot as plt\n",
    "import numpy as np\n",
    "import pandas as pd"
   ]
  },
  {
   "cell_type": "markdown",
   "metadata": {},
   "source": [
    "# Makeover Monday 2020 W7 –– World Wealth\n",
    "\n",
    "For this week's challenge, we are looking at global wealth by nation and continent.\n",
    "\n",
    "Source Article: [All the World's Wealth in One Visual](https://howmuch.net/articles/distribution-worlds-wealth-2019)\n",
    "\n",
    "Data Source: [Credit Suisse](https://www.credit-suisse.com/)\n",
    "\n",
    "Makeover Monday Data: [data.world](https://data.world/makeovermonday/2020w7)"
   ]
  },
  {
   "cell_type": "markdown",
   "metadata": {},
   "source": [
    "## Data Analysis\n",
    "\n",
    "### Loading the Data:"
   ]
  },
  {
   "cell_type": "code",
   "execution_count": 2,
   "metadata": {},
   "outputs": [],
   "source": [
    "df = pd.read_excel('WorldWealth.xlsx')"
   ]
  },
  {
   "cell_type": "markdown",
   "metadata": {},
   "source": [
    "### First Look at Data:"
   ]
  },
  {
   "cell_type": "code",
   "execution_count": 3,
   "metadata": {},
   "outputs": [
    {
     "name": "stdout",
     "output_type": "stream",
     "text": [
      "<class 'pandas.core.frame.DataFrame'>\n",
      "RangeIndex: 214 entries, 0 to 213\n",
      "Data columns (total 3 columns):\n",
      "Country        214 non-null object\n",
      "Region         206 non-null object\n",
      "Wealth ($B)    205 non-null object\n",
      "dtypes: object(3)\n",
      "memory usage: 5.1+ KB\n"
     ]
    }
   ],
   "source": [
    "df.info()"
   ]
  },
  {
   "cell_type": "markdown",
   "metadata": {},
   "source": [
    "We have some missing values in the data and the wealth column is read as a string."
   ]
  },
  {
   "cell_type": "code",
   "execution_count": 4,
   "metadata": {},
   "outputs": [
    {
     "data": {
      "text/html": [
       "<div>\n",
       "<style scoped>\n",
       "    .dataframe tbody tr th:only-of-type {\n",
       "        vertical-align: middle;\n",
       "    }\n",
       "\n",
       "    .dataframe tbody tr th {\n",
       "        vertical-align: top;\n",
       "    }\n",
       "\n",
       "    .dataframe thead th {\n",
       "        text-align: right;\n",
       "    }\n",
       "</style>\n",
       "<table border=\"1\" class=\"dataframe\">\n",
       "  <thead>\n",
       "    <tr style=\"text-align: right;\">\n",
       "      <th></th>\n",
       "      <th>Country</th>\n",
       "      <th>Region</th>\n",
       "      <th>Wealth ($B)</th>\n",
       "    </tr>\n",
       "  </thead>\n",
       "  <tbody>\n",
       "    <tr>\n",
       "      <th>0</th>\n",
       "      <td>United States</td>\n",
       "      <td>North America</td>\n",
       "      <td>$105,990</td>\n",
       "    </tr>\n",
       "    <tr>\n",
       "      <th>1</th>\n",
       "      <td>China</td>\n",
       "      <td>China</td>\n",
       "      <td>$63,827</td>\n",
       "    </tr>\n",
       "    <tr>\n",
       "      <th>2</th>\n",
       "      <td>Japan</td>\n",
       "      <td>Asia-Pacific</td>\n",
       "      <td>$24,992</td>\n",
       "    </tr>\n",
       "    <tr>\n",
       "      <th>3</th>\n",
       "      <td>Germany</td>\n",
       "      <td>Europe</td>\n",
       "      <td>$14,660</td>\n",
       "    </tr>\n",
       "    <tr>\n",
       "      <th>4</th>\n",
       "      <td>United Kingdom</td>\n",
       "      <td>Europe</td>\n",
       "      <td>$14,341</td>\n",
       "    </tr>\n",
       "  </tbody>\n",
       "</table>\n",
       "</div>"
      ],
      "text/plain": [
       "          Country         Region Wealth ($B)\n",
       "0   United States  North America    $105,990\n",
       "1           China          China     $63,827\n",
       "2           Japan   Asia-Pacific     $24,992\n",
       "3         Germany         Europe     $14,660\n",
       "4  United Kingdom         Europe     $14,341"
      ]
     },
     "execution_count": 4,
     "metadata": {},
     "output_type": "execute_result"
    }
   ],
   "source": [
    "df.head()"
   ]
  },
  {
   "cell_type": "markdown",
   "metadata": {},
   "source": [
    "The wealth column cannot be read as integers with the dollar signs and commas. We need to remove those. China is also strangely listed as a region."
   ]
  },
  {
   "cell_type": "code",
   "execution_count": 9,
   "metadata": {},
   "outputs": [
    {
     "data": {
      "text/html": [
       "<div>\n",
       "<style scoped>\n",
       "    .dataframe tbody tr th:only-of-type {\n",
       "        vertical-align: middle;\n",
       "    }\n",
       "\n",
       "    .dataframe tbody tr th {\n",
       "        vertical-align: top;\n",
       "    }\n",
       "\n",
       "    .dataframe thead th {\n",
       "        text-align: right;\n",
       "    }\n",
       "</style>\n",
       "<table border=\"1\" class=\"dataframe\">\n",
       "  <thead>\n",
       "    <tr style=\"text-align: right;\">\n",
       "      <th></th>\n",
       "      <th>Country</th>\n",
       "      <th>Region</th>\n",
       "      <th>Wealth ($B)</th>\n",
       "    </tr>\n",
       "  </thead>\n",
       "  <tbody>\n",
       "    <tr>\n",
       "      <th>count</th>\n",
       "      <td>214</td>\n",
       "      <td>206</td>\n",
       "      <td>205</td>\n",
       "    </tr>\n",
       "    <tr>\n",
       "      <th>unique</th>\n",
       "      <td>214</td>\n",
       "      <td>7</td>\n",
       "      <td>142</td>\n",
       "    </tr>\n",
       "    <tr>\n",
       "      <th>top</th>\n",
       "      <td>Benin</td>\n",
       "      <td>Asia-Pacific</td>\n",
       "      <td>$2</td>\n",
       "    </tr>\n",
       "    <tr>\n",
       "      <th>freq</th>\n",
       "      <td>1</td>\n",
       "      <td>63</td>\n",
       "      <td>11</td>\n",
       "    </tr>\n",
       "  </tbody>\n",
       "</table>\n",
       "</div>"
      ],
      "text/plain": [
       "       Country        Region Wealth ($B)\n",
       "count      214           206         205\n",
       "unique     214             7         142\n",
       "top      Benin  Asia-Pacific          $2\n",
       "freq         1            63          11"
      ]
     },
     "execution_count": 9,
     "metadata": {},
     "output_type": "execute_result"
    }
   ],
   "source": [
    "df.describe()"
   ]
  },
  {
   "cell_type": "markdown",
   "metadata": {},
   "source": [
    "The 7 region division should be verified given the China region."
   ]
  },
  {
   "cell_type": "markdown",
   "metadata": {},
   "source": [
    "### Data Cleaning:\n",
    "\n",
    "#### Fixing the null values"
   ]
  },
  {
   "cell_type": "code",
   "execution_count": 5,
   "metadata": {},
   "outputs": [
    {
     "data": {
      "text/html": [
       "<div>\n",
       "<style scoped>\n",
       "    .dataframe tbody tr th:only-of-type {\n",
       "        vertical-align: middle;\n",
       "    }\n",
       "\n",
       "    .dataframe tbody tr th {\n",
       "        vertical-align: top;\n",
       "    }\n",
       "\n",
       "    .dataframe thead th {\n",
       "        text-align: right;\n",
       "    }\n",
       "</style>\n",
       "<table border=\"1\" class=\"dataframe\">\n",
       "  <thead>\n",
       "    <tr style=\"text-align: right;\">\n",
       "      <th></th>\n",
       "      <th>Country</th>\n",
       "      <th>Region</th>\n",
       "      <th>Wealth ($B)</th>\n",
       "    </tr>\n",
       "  </thead>\n",
       "  <tbody>\n",
       "    <tr>\n",
       "      <th>97</th>\n",
       "      <td>Bosnia and Herzegovina</td>\n",
       "      <td>NaN</td>\n",
       "      <td>NaN</td>\n",
       "    </tr>\n",
       "    <tr>\n",
       "      <th>98</th>\n",
       "      <td>Europe</td>\n",
       "      <td>NaN</td>\n",
       "      <td>NaN</td>\n",
       "    </tr>\n",
       "    <tr>\n",
       "      <th>154</th>\n",
       "      <td>Northern Mariana Islands</td>\n",
       "      <td>NaN</td>\n",
       "      <td>NaN</td>\n",
       "    </tr>\n",
       "    <tr>\n",
       "      <th>155</th>\n",
       "      <td>Asia-Pacific</td>\n",
       "      <td>NaN</td>\n",
       "      <td>NaN</td>\n",
       "    </tr>\n",
       "    <tr>\n",
       "      <th>195</th>\n",
       "      <td>Central African Republic</td>\n",
       "      <td>NaN</td>\n",
       "      <td>NaN</td>\n",
       "    </tr>\n",
       "    <tr>\n",
       "      <th>196</th>\n",
       "      <td>Africa</td>\n",
       "      <td>NaN</td>\n",
       "      <td>NaN</td>\n",
       "    </tr>\n",
       "    <tr>\n",
       "      <th>203</th>\n",
       "      <td>St. Vincent and the Grenadines</td>\n",
       "      <td>NaN</td>\n",
       "      <td>NaN</td>\n",
       "    </tr>\n",
       "    <tr>\n",
       "      <th>204</th>\n",
       "      <td>Latin America</td>\n",
       "      <td>NaN</td>\n",
       "      <td>NaN</td>\n",
       "    </tr>\n",
       "    <tr>\n",
       "      <th>213</th>\n",
       "      <td>Venezuela</td>\n",
       "      <td>Latin America</td>\n",
       "      <td>NaN</td>\n",
       "    </tr>\n",
       "  </tbody>\n",
       "</table>\n",
       "</div>"
      ],
      "text/plain": [
       "                            Country         Region Wealth ($B)\n",
       "97           Bosnia and Herzegovina            NaN         NaN\n",
       "98                           Europe            NaN         NaN\n",
       "154        Northern Mariana Islands            NaN         NaN\n",
       "155                    Asia-Pacific            NaN         NaN\n",
       "195        Central African Republic            NaN         NaN\n",
       "196                          Africa            NaN         NaN\n",
       "203  St. Vincent and the Grenadines            NaN         NaN\n",
       "204                   Latin America            NaN         NaN\n",
       "213                       Venezuela  Latin America         NaN"
      ]
     },
     "execution_count": 5,
     "metadata": {},
     "output_type": "execute_result"
    }
   ],
   "source": [
    "# looking into missing values\n",
    "df[df.isnull().any(axis=1)]"
   ]
  },
  {
   "cell_type": "markdown",
   "metadata": {},
   "source": [
    "These values will be removed since they have no information. We could alternatively look online for the proper values, but for the pruposes of this exercise, I'll stick to the given dataset."
   ]
  },
  {
   "cell_type": "code",
   "execution_count": 6,
   "metadata": {},
   "outputs": [
    {
     "name": "stdout",
     "output_type": "stream",
     "text": [
      "<class 'pandas.core.frame.DataFrame'>\n",
      "Int64Index: 205 entries, 0 to 212\n",
      "Data columns (total 3 columns):\n",
      "Country        205 non-null object\n",
      "Region         205 non-null object\n",
      "Wealth ($B)    205 non-null object\n",
      "dtypes: object(3)\n",
      "memory usage: 6.4+ KB\n"
     ]
    }
   ],
   "source": [
    "# drop empty wealth rows\n",
    "df1 = df.dropna().copy()\n",
    "\n",
    "df1.info()"
   ]
  },
  {
   "cell_type": "markdown",
   "metadata": {},
   "source": [
    "The missing values have been removed.\n",
    "\n",
    "#### Fixing the wealth column"
   ]
  },
  {
   "cell_type": "code",
   "execution_count": 7,
   "metadata": {},
   "outputs": [
    {
     "data": {
      "text/html": [
       "<div>\n",
       "<style scoped>\n",
       "    .dataframe tbody tr th:only-of-type {\n",
       "        vertical-align: middle;\n",
       "    }\n",
       "\n",
       "    .dataframe tbody tr th {\n",
       "        vertical-align: top;\n",
       "    }\n",
       "\n",
       "    .dataframe thead th {\n",
       "        text-align: right;\n",
       "    }\n",
       "</style>\n",
       "<table border=\"1\" class=\"dataframe\">\n",
       "  <thead>\n",
       "    <tr style=\"text-align: right;\">\n",
       "      <th></th>\n",
       "      <th>Country</th>\n",
       "      <th>Region</th>\n",
       "      <th>Wealth ($B)</th>\n",
       "    </tr>\n",
       "  </thead>\n",
       "  <tbody>\n",
       "    <tr>\n",
       "      <th>0</th>\n",
       "      <td>United States</td>\n",
       "      <td>North America</td>\n",
       "      <td>105990</td>\n",
       "    </tr>\n",
       "    <tr>\n",
       "      <th>1</th>\n",
       "      <td>China</td>\n",
       "      <td>China</td>\n",
       "      <td>63827</td>\n",
       "    </tr>\n",
       "    <tr>\n",
       "      <th>2</th>\n",
       "      <td>Japan</td>\n",
       "      <td>Asia-Pacific</td>\n",
       "      <td>24992</td>\n",
       "    </tr>\n",
       "    <tr>\n",
       "      <th>3</th>\n",
       "      <td>Germany</td>\n",
       "      <td>Europe</td>\n",
       "      <td>14660</td>\n",
       "    </tr>\n",
       "    <tr>\n",
       "      <th>4</th>\n",
       "      <td>United Kingdom</td>\n",
       "      <td>Europe</td>\n",
       "      <td>14341</td>\n",
       "    </tr>\n",
       "  </tbody>\n",
       "</table>\n",
       "</div>"
      ],
      "text/plain": [
       "          Country         Region Wealth ($B)\n",
       "0   United States  North America      105990\n",
       "1           China          China       63827\n",
       "2           Japan   Asia-Pacific       24992\n",
       "3         Germany         Europe       14660\n",
       "4  United Kingdom         Europe       14341"
      ]
     },
     "execution_count": 7,
     "metadata": {},
     "output_type": "execute_result"
    }
   ],
   "source": [
    "# Remove the '$' and ',' from wealth column\n",
    "df1['Wealth ($B)'] = df1['Wealth ($B)'].str.replace(',', '')\n",
    "df1['Wealth ($B)'] = df1['Wealth ($B)'].str.replace('$', '')\n",
    "\n",
    "df1.head()"
   ]
  },
  {
   "cell_type": "code",
   "execution_count": 8,
   "metadata": {},
   "outputs": [
    {
     "name": "stdout",
     "output_type": "stream",
     "text": [
      "<class 'pandas.core.frame.DataFrame'>\n",
      "Int64Index: 205 entries, 0 to 212\n",
      "Data columns (total 3 columns):\n",
      "Country        205 non-null object\n",
      "Region         205 non-null object\n",
      "Wealth ($B)    205 non-null int64\n",
      "dtypes: int64(1), object(2)\n",
      "memory usage: 6.4+ KB\n"
     ]
    }
   ],
   "source": [
    "# convert to a numeric column\n",
    "df1['Wealth ($B)'] = pd.to_numeric(df1['Wealth ($B)'])\n",
    "\n",
    "df1.info()"
   ]
  },
  {
   "cell_type": "markdown",
   "metadata": {},
   "source": [
    "The wealth column has been successfully made into a numeric column.\n",
    "\n",
    "#### Fixing regions"
   ]
  },
  {
   "cell_type": "code",
   "execution_count": 9,
   "metadata": {},
   "outputs": [
    {
     "data": {
      "text/plain": [
       "array(['North America', 'China', 'Asia-Pacific', 'Europe', 'India',\n",
       "       'Latin America', 'Africa'], dtype=object)"
      ]
     },
     "execution_count": 9,
     "metadata": {},
     "output_type": "execute_result"
    }
   ],
   "source": [
    "# check unique region values\n",
    "df1['Region'].unique()"
   ]
  },
  {
   "cell_type": "markdown",
   "metadata": {},
   "source": [
    "China and India are listed as regions. They need to be regrouped."
   ]
  },
  {
   "cell_type": "code",
   "execution_count": 15,
   "metadata": {},
   "outputs": [
    {
     "data": {
      "text/plain": [
       "array(['North America', 'Asia-Pacific', 'Europe', 'Latin America',\n",
       "       'Africa'], dtype=object)"
      ]
     },
     "execution_count": 15,
     "metadata": {},
     "output_type": "execute_result"
    }
   ],
   "source": [
    "# fixing regions\n",
    "df1.replace({'Region': {'China': 'Asia-Pacific', 'India': 'Asia-Pacific'}}, inplace = True)\n",
    "\n",
    "df1['Region'].unique()"
   ]
  },
  {
   "cell_type": "markdown",
   "metadata": {},
   "source": [
    "China and India have been put into Asia-Pacific.\n",
    "\n",
    "### Summary Statistics"
   ]
  },
  {
   "cell_type": "code",
   "execution_count": 16,
   "metadata": {},
   "outputs": [
    {
     "data": {
      "text/html": [
       "<div>\n",
       "<style scoped>\n",
       "    .dataframe tbody tr th:only-of-type {\n",
       "        vertical-align: middle;\n",
       "    }\n",
       "\n",
       "    .dataframe tbody tr th {\n",
       "        vertical-align: top;\n",
       "    }\n",
       "\n",
       "    .dataframe thead th {\n",
       "        text-align: right;\n",
       "    }\n",
       "</style>\n",
       "<table border=\"1\" class=\"dataframe\">\n",
       "  <thead>\n",
       "    <tr style=\"text-align: right;\">\n",
       "      <th></th>\n",
       "      <th>Country</th>\n",
       "      <th>Region</th>\n",
       "      <th>Wealth ($B)</th>\n",
       "    </tr>\n",
       "  </thead>\n",
       "  <tbody>\n",
       "    <tr>\n",
       "      <th>count</th>\n",
       "      <td>205</td>\n",
       "      <td>205</td>\n",
       "      <td>205.000000</td>\n",
       "    </tr>\n",
       "    <tr>\n",
       "      <th>unique</th>\n",
       "      <td>205</td>\n",
       "      <td>5</td>\n",
       "      <td>NaN</td>\n",
       "    </tr>\n",
       "    <tr>\n",
       "      <th>top</th>\n",
       "      <td>Benin</td>\n",
       "      <td>Asia-Pacific</td>\n",
       "      <td>NaN</td>\n",
       "    </tr>\n",
       "    <tr>\n",
       "      <th>freq</th>\n",
       "      <td>1</td>\n",
       "      <td>65</td>\n",
       "      <td>NaN</td>\n",
       "    </tr>\n",
       "    <tr>\n",
       "      <th>mean</th>\n",
       "      <td>NaN</td>\n",
       "      <td>NaN</td>\n",
       "      <td>1758.409756</td>\n",
       "    </tr>\n",
       "    <tr>\n",
       "      <th>std</th>\n",
       "      <td>NaN</td>\n",
       "      <td>NaN</td>\n",
       "      <td>9010.680069</td>\n",
       "    </tr>\n",
       "    <tr>\n",
       "      <th>min</th>\n",
       "      <td>NaN</td>\n",
       "      <td>NaN</td>\n",
       "      <td>0.000000</td>\n",
       "    </tr>\n",
       "    <tr>\n",
       "      <th>25%</th>\n",
       "      <td>NaN</td>\n",
       "      <td>NaN</td>\n",
       "      <td>12.000000</td>\n",
       "    </tr>\n",
       "    <tr>\n",
       "      <th>50%</th>\n",
       "      <td>NaN</td>\n",
       "      <td>NaN</td>\n",
       "      <td>64.000000</td>\n",
       "    </tr>\n",
       "    <tr>\n",
       "      <th>75%</th>\n",
       "      <td>NaN</td>\n",
       "      <td>NaN</td>\n",
       "      <td>377.000000</td>\n",
       "    </tr>\n",
       "    <tr>\n",
       "      <th>max</th>\n",
       "      <td>NaN</td>\n",
       "      <td>NaN</td>\n",
       "      <td>105990.000000</td>\n",
       "    </tr>\n",
       "  </tbody>\n",
       "</table>\n",
       "</div>"
      ],
      "text/plain": [
       "       Country        Region    Wealth ($B)\n",
       "count      205           205     205.000000\n",
       "unique     205             5            NaN\n",
       "top      Benin  Asia-Pacific            NaN\n",
       "freq         1            65            NaN\n",
       "mean       NaN           NaN    1758.409756\n",
       "std        NaN           NaN    9010.680069\n",
       "min        NaN           NaN       0.000000\n",
       "25%        NaN           NaN      12.000000\n",
       "50%        NaN           NaN      64.000000\n",
       "75%        NaN           NaN     377.000000\n",
       "max        NaN           NaN  105990.000000"
      ]
     },
     "execution_count": 16,
     "metadata": {},
     "output_type": "execute_result"
    }
   ],
   "source": [
    "df1.describe(include = 'all')"
   ]
  },
  {
   "cell_type": "markdown",
   "metadata": {},
   "source": [
    "The data covers 205 countries from 5 regions. The minimum national wealth in billions of dollars is 0, the mean is 1758.41 with a standard deviation of 9010.68, the median is 64, and the max is 105990."
   ]
  },
  {
   "cell_type": "markdown",
   "metadata": {},
   "source": [
    "### Initial Graph:"
   ]
  },
  {
   "cell_type": "code",
   "execution_count": 22,
   "metadata": {},
   "outputs": [
    {
     "data": {
      "image/png": "[encoded data removed]",
      "text/plain": [
       "<Figure size 360x720 with 1 Axes>"
      ]
     },
     "metadata": {
      "needs_background": "light"
     },
     "output_type": "display_data"
    }
   ],
   "source": [
    "fig = df1.boxplot(figsize=(5,10))"
   ]
  },
  {
   "cell_type": "markdown",
   "metadata": {},
   "source": [
    "This graph is clearly"
   ]
  },
  {
   "cell_type": "code",
   "execution_count": 12,
   "metadata": {},
   "outputs": [
    {
     "data": {
      "image/png": "[encoded data removed]",
      "text/plain": [
       "<Figure size 432x288 with 1 Axes>"
      ]
     },
     "metadata": {
      "needs_background": "light"
     },
     "output_type": "display_data"
    }
   ],
   "source": [
    "df1['sqrtWealth ($B)'] = np.sqrt(df1['Wealth ($B)'])\n",
    "\n",
    "fig2 = df1.boxplot('sqrtWealth ($B)')"
   ]
  },
  {
   "cell_type": "code",
   "execution_count": 13,
   "metadata": {},
   "outputs": [
    {
     "data": {
      "image/png": "[encoded data removed]",
      "text/plain": [
       "<Figure size 432x288 with 1 Axes>"
      ]
     },
     "metadata": {
      "needs_background": "light"
     },
     "output_type": "display_data"
    }
   ],
   "source": [
    "df1['cbrtWealth ($B)'] = np.cbrt(df1['Wealth ($B)'])\n",
    "\n",
    "fig3 = df1.boxplot('cbrtWealth ($B)')"
   ]
  },
  {
   "cell_type": "code",
   "execution_count": 14,
   "metadata": {},
   "outputs": [
    {
     "data": {
      "text/plain": [
       "<matplotlib.axes._subplots.AxesSubplot at 0x1c1847db00>"
      ]
     },
     "execution_count": 14,
     "metadata": {},
     "output_type": "execute_result"
    }
   ],
   "source": [
    "fig.get_figure().savefig(\"pdplot_WorldWeath.png\")\n",
    "\n",
    "fig"
   ]
  },
  {
   "cell_type": "markdown",
   "metadata": {},
   "source": [
    "### Data Exploration:\n",
    "\n",
    "#### Birth Years with 100% Wartime"
   ]
  },
  {
   "cell_type": "code",
   "execution_count": 17,
   "metadata": {},
   "outputs": [
    {
     "data": {
      "text/html": [
       "<div>\n",
       "<style scoped>\n",
       "    .dataframe tbody tr th:only-of-type {\n",
       "        vertical-align: middle;\n",
       "    }\n",
       "\n",
       "    .dataframe tbody tr th {\n",
       "        vertical-align: top;\n",
       "    }\n",
       "\n",
       "    .dataframe thead tr th {\n",
       "        text-align: left;\n",
       "    }\n",
       "\n",
       "    .dataframe thead tr:last-of-type th {\n",
       "        text-align: right;\n",
       "    }\n",
       "</style>\n",
       "<table border=\"1\" class=\"dataframe\">\n",
       "  <thead>\n",
       "    <tr>\n",
       "      <th></th>\n",
       "      <th colspan=\"8\" halign=\"left\">Wealth ($B)</th>\n",
       "    </tr>\n",
       "    <tr>\n",
       "      <th></th>\n",
       "      <th>count</th>\n",
       "      <th>mean</th>\n",
       "      <th>std</th>\n",
       "      <th>min</th>\n",
       "      <th>25%</th>\n",
       "      <th>50%</th>\n",
       "      <th>75%</th>\n",
       "      <th>max</th>\n",
       "    </tr>\n",
       "    <tr>\n",
       "      <th>Region</th>\n",
       "      <th></th>\n",
       "      <th></th>\n",
       "      <th></th>\n",
       "      <th></th>\n",
       "      <th></th>\n",
       "      <th></th>\n",
       "      <th></th>\n",
       "      <th></th>\n",
       "    </tr>\n",
       "  </thead>\n",
       "  <tbody>\n",
       "    <tr>\n",
       "      <th>Africa</th>\n",
       "      <td>53.0</td>\n",
       "      <td>77.641509</td>\n",
       "      <td>174.071945</td>\n",
       "      <td>0.0</td>\n",
       "      <td>6.00</td>\n",
       "      <td>14.0</td>\n",
       "      <td>48.00</td>\n",
       "      <td>898.0</td>\n",
       "    </tr>\n",
       "    <tr>\n",
       "      <th>Asia-Pacific</th>\n",
       "      <td>65.0</td>\n",
       "      <td>2172.323077</td>\n",
       "      <td>8569.326297</td>\n",
       "      <td>0.0</td>\n",
       "      <td>21.00</td>\n",
       "      <td>114.0</td>\n",
       "      <td>775.00</td>\n",
       "      <td>63827.0</td>\n",
       "    </tr>\n",
       "    <tr>\n",
       "      <th>Europe</th>\n",
       "      <td>46.0</td>\n",
       "      <td>1970.586957</td>\n",
       "      <td>3891.894909</td>\n",
       "      <td>7.0</td>\n",
       "      <td>72.75</td>\n",
       "      <td>265.0</td>\n",
       "      <td>1646.00</td>\n",
       "      <td>14660.0</td>\n",
       "    </tr>\n",
       "    <tr>\n",
       "      <th>Latin America</th>\n",
       "      <td>37.0</td>\n",
       "      <td>267.675676</td>\n",
       "      <td>716.341246</td>\n",
       "      <td>2.0</td>\n",
       "      <td>5.00</td>\n",
       "      <td>42.0</td>\n",
       "      <td>145.00</td>\n",
       "      <td>3535.0</td>\n",
       "    </tr>\n",
       "    <tr>\n",
       "      <th>North America</th>\n",
       "      <td>4.0</td>\n",
       "      <td>28651.750000</td>\n",
       "      <td>51716.168609</td>\n",
       "      <td>21.0</td>\n",
       "      <td>22.50</td>\n",
       "      <td>4298.0</td>\n",
       "      <td>32927.25</td>\n",
       "      <td>105990.0</td>\n",
       "    </tr>\n",
       "  </tbody>\n",
       "</table>\n",
       "</div>"
      ],
      "text/plain": [
       "              Wealth ($B)                                                   \\\n",
       "                    count          mean           std   min    25%     50%   \n",
       "Region                                                                       \n",
       "Africa               53.0     77.641509    174.071945   0.0   6.00    14.0   \n",
       "Asia-Pacific         65.0   2172.323077   8569.326297   0.0  21.00   114.0   \n",
       "Europe               46.0   1970.586957   3891.894909   7.0  72.75   265.0   \n",
       "Latin America        37.0    267.675676    716.341246   2.0   5.00    42.0   \n",
       "North America         4.0  28651.750000  51716.168609  21.0  22.50  4298.0   \n",
       "\n",
       "                                   \n",
       "                    75%       max  \n",
       "Region                             \n",
       "Africa            48.00     898.0  \n",
       "Asia-Pacific     775.00   63827.0  \n",
       "Europe          1646.00   14660.0  \n",
       "Latin America    145.00    3535.0  \n",
       "North America  32927.25  105990.0  "
      ]
     },
     "execution_count": 17,
     "metadata": {},
     "output_type": "execute_result"
    }
   ],
   "source": [
    "df1[['Region', 'Wealth ($B)']].groupby('Region').describe()"
   ]
  },
  {
   "cell_type": "code",
   "execution_count": null,
   "metadata": {},
   "outputs": [],
   "source": [
    "df2 = df1.groupby('Region')"
   ]
  },
  {
   "cell_type": "markdown",
   "metadata": {},
   "source": [
    "Every American born since 2001 has never experienced the United States in peacetime.\n",
    "\n",
    "#### Birth Years more than 50% Wartime"
   ]
  },
  {
   "cell_type": "code",
   "execution_count": 19,
   "metadata": {},
   "outputs": [
    {
     "data": {
      "text/plain": [
       "<matplotlib.axes._subplots.AxesSubplot at 0x1c185e9cf8>"
      ]
     },
     "execution_count": 19,
     "metadata": {},
     "output_type": "execute_result"
    },
    {
     "data": {
      "image/png": "[encoded data removed]",
      "text/plain": [
       "<Figure size 576x720 with 1 Axes>"
      ]
     },
     "metadata": {
      "needs_background": "light"
     },
     "output_type": "display_data"
    }
   ],
   "source": [
    "df1.boxplot(column=['cbrtWealth ($B)'], by='Region', figsize=(8, 10))"
   ]
  },
  {
   "cell_type": "code",
   "execution_count": 50,
   "metadata": {},
   "outputs": [],
   "source": [
    "df_agg = df1.groupby(['Region']).sum()[['Wealth ($B)']]"
   ]
  },
  {
   "cell_type": "code",
   "execution_count": 48,
   "metadata": {},
   "outputs": [
    {
     "data": {
      "text/plain": [
       "<matplotlib.axes._subplots.AxesSubplot at 0x1c248f6ba8>"
      ]
     },
     "execution_count": 48,
     "metadata": {},
     "output_type": "execute_result"
    },
    {
     "data": {
      "image/png": "[encoded data removed]",
      "text/plain": [
       "<Figure size 576x720 with 1 Axes>"
      ]
     },
     "metadata": {},
     "output_type": "display_data"
    }
   ],
   "source": [
    "df1.groupby(['Region']).sum().plot.pie(y = 'Wealth ($B)', figsize=(8, 10))"
   ]
  },
  {
   "cell_type": "code",
   "execution_count": 44,
   "metadata": {},
   "outputs": [
    {
     "data": {
      "text/html": [
       "<div>\n",
       "<style scoped>\n",
       "    .dataframe tbody tr th:only-of-type {\n",
       "        vertical-align: middle;\n",
       "    }\n",
       "\n",
       "    .dataframe tbody tr th {\n",
       "        vertical-align: top;\n",
       "    }\n",
       "\n",
       "    .dataframe thead th {\n",
       "        text-align: right;\n",
       "    }\n",
       "</style>\n",
       "<table border=\"1\" class=\"dataframe\">\n",
       "  <thead>\n",
       "    <tr style=\"text-align: right;\">\n",
       "      <th></th>\n",
       "      <th>Country</th>\n",
       "      <th>Region</th>\n",
       "      <th>Wealth ($B)</th>\n",
       "      <th>sqrtWealth ($B)</th>\n",
       "      <th>cbrtWealth ($B)</th>\n",
       "    </tr>\n",
       "  </thead>\n",
       "  <tbody>\n",
       "    <tr>\n",
       "      <th>0</th>\n",
       "      <td>Egypt</td>\n",
       "      <td>Africa</td>\n",
       "      <td>898</td>\n",
       "      <td>29.966648</td>\n",
       "      <td>9.647737</td>\n",
       "    </tr>\n",
       "    <tr>\n",
       "      <th>1</th>\n",
       "      <td>South Africa</td>\n",
       "      <td>Africa</td>\n",
       "      <td>770</td>\n",
       "      <td>27.748874</td>\n",
       "      <td>9.165656</td>\n",
       "    </tr>\n",
       "    <tr>\n",
       "      <th>2</th>\n",
       "      <td>Nigeria</td>\n",
       "      <td>Africa</td>\n",
       "      <td>443</td>\n",
       "      <td>21.047565</td>\n",
       "      <td>7.623152</td>\n",
       "    </tr>\n",
       "    <tr>\n",
       "      <th>3</th>\n",
       "      <td>Morocco</td>\n",
       "      <td>Africa</td>\n",
       "      <td>305</td>\n",
       "      <td>17.464249</td>\n",
       "      <td>6.731315</td>\n",
       "    </tr>\n",
       "    <tr>\n",
       "      <th>4</th>\n",
       "      <td>Algeria</td>\n",
       "      <td>Africa</td>\n",
       "      <td>252</td>\n",
       "      <td>15.874508</td>\n",
       "      <td>6.316360</td>\n",
       "    </tr>\n",
       "    <tr>\n",
       "      <th>5</th>\n",
       "      <td>China</td>\n",
       "      <td>Asia-Pacific</td>\n",
       "      <td>63827</td>\n",
       "      <td>252.640060</td>\n",
       "      <td>39.963926</td>\n",
       "    </tr>\n",
       "    <tr>\n",
       "      <th>6</th>\n",
       "      <td>Japan</td>\n",
       "      <td>Asia-Pacific</td>\n",
       "      <td>24992</td>\n",
       "      <td>158.088583</td>\n",
       "      <td>29.237058</td>\n",
       "    </tr>\n",
       "    <tr>\n",
       "      <th>7</th>\n",
       "      <td>India</td>\n",
       "      <td>Asia-Pacific</td>\n",
       "      <td>12614</td>\n",
       "      <td>112.312065</td>\n",
       "      <td>23.278283</td>\n",
       "    </tr>\n",
       "    <tr>\n",
       "      <th>8</th>\n",
       "      <td>Korea</td>\n",
       "      <td>Asia-Pacific</td>\n",
       "      <td>7302</td>\n",
       "      <td>85.451741</td>\n",
       "      <td>19.400546</td>\n",
       "    </tr>\n",
       "    <tr>\n",
       "      <th>9</th>\n",
       "      <td>Australia</td>\n",
       "      <td>Asia-Pacific</td>\n",
       "      <td>7202</td>\n",
       "      <td>84.864598</td>\n",
       "      <td>19.311575</td>\n",
       "    </tr>\n",
       "    <tr>\n",
       "      <th>10</th>\n",
       "      <td>Germany</td>\n",
       "      <td>Europe</td>\n",
       "      <td>14660</td>\n",
       "      <td>121.078487</td>\n",
       "      <td>24.474359</td>\n",
       "    </tr>\n",
       "    <tr>\n",
       "      <th>11</th>\n",
       "      <td>United Kingdom</td>\n",
       "      <td>Europe</td>\n",
       "      <td>14341</td>\n",
       "      <td>119.753914</td>\n",
       "      <td>24.295536</td>\n",
       "    </tr>\n",
       "    <tr>\n",
       "      <th>12</th>\n",
       "      <td>France</td>\n",
       "      <td>Europe</td>\n",
       "      <td>13729</td>\n",
       "      <td>117.170815</td>\n",
       "      <td>23.944897</td>\n",
       "    </tr>\n",
       "    <tr>\n",
       "      <th>13</th>\n",
       "      <td>Italy</td>\n",
       "      <td>Europe</td>\n",
       "      <td>11358</td>\n",
       "      <td>106.573918</td>\n",
       "      <td>22.478498</td>\n",
       "    </tr>\n",
       "    <tr>\n",
       "      <th>14</th>\n",
       "      <td>Spain</td>\n",
       "      <td>Europe</td>\n",
       "      <td>7772</td>\n",
       "      <td>88.158947</td>\n",
       "      <td>19.808166</td>\n",
       "    </tr>\n",
       "    <tr>\n",
       "      <th>15</th>\n",
       "      <td>Brazil</td>\n",
       "      <td>Latin America</td>\n",
       "      <td>3535</td>\n",
       "      <td>59.455866</td>\n",
       "      <td>15.233387</td>\n",
       "    </tr>\n",
       "    <tr>\n",
       "      <th>16</th>\n",
       "      <td>Mexico</td>\n",
       "      <td>Latin America</td>\n",
       "      <td>2701</td>\n",
       "      <td>51.971146</td>\n",
       "      <td>13.926485</td>\n",
       "    </tr>\n",
       "    <tr>\n",
       "      <th>17</th>\n",
       "      <td>Chile</td>\n",
       "      <td>Latin America</td>\n",
       "      <td>759</td>\n",
       "      <td>27.549955</td>\n",
       "      <td>9.121801</td>\n",
       "    </tr>\n",
       "    <tr>\n",
       "      <th>18</th>\n",
       "      <td>Colombia</td>\n",
       "      <td>Latin America</td>\n",
       "      <td>562</td>\n",
       "      <td>23.706539</td>\n",
       "      <td>8.252372</td>\n",
       "    </tr>\n",
       "    <tr>\n",
       "      <th>19</th>\n",
       "      <td>Peru</td>\n",
       "      <td>Latin America</td>\n",
       "      <td>377</td>\n",
       "      <td>19.416488</td>\n",
       "      <td>7.224045</td>\n",
       "    </tr>\n",
       "    <tr>\n",
       "      <th>20</th>\n",
       "      <td>United States</td>\n",
       "      <td>North America</td>\n",
       "      <td>105990</td>\n",
       "      <td>325.561054</td>\n",
       "      <td>47.324747</td>\n",
       "    </tr>\n",
       "    <tr>\n",
       "      <th>21</th>\n",
       "      <td>Canada</td>\n",
       "      <td>North America</td>\n",
       "      <td>8573</td>\n",
       "      <td>92.590496</td>\n",
       "      <td>20.466533</td>\n",
       "    </tr>\n",
       "    <tr>\n",
       "      <th>22</th>\n",
       "      <td>Bermuda</td>\n",
       "      <td>North America</td>\n",
       "      <td>23</td>\n",
       "      <td>4.795832</td>\n",
       "      <td>2.843867</td>\n",
       "    </tr>\n",
       "    <tr>\n",
       "      <th>23</th>\n",
       "      <td>Greenland</td>\n",
       "      <td>North America</td>\n",
       "      <td>21</td>\n",
       "      <td>4.582576</td>\n",
       "      <td>2.758924</td>\n",
       "    </tr>\n",
       "  </tbody>\n",
       "</table>\n",
       "</div>"
      ],
      "text/plain": [
       "           Country         Region  Wealth ($B)  sqrtWealth ($B)  \\\n",
       "0            Egypt         Africa          898        29.966648   \n",
       "1     South Africa         Africa          770        27.748874   \n",
       "2          Nigeria         Africa          443        21.047565   \n",
       "3          Morocco         Africa          305        17.464249   \n",
       "4          Algeria         Africa          252        15.874508   \n",
       "5            China   Asia-Pacific        63827       252.640060   \n",
       "6            Japan   Asia-Pacific        24992       158.088583   \n",
       "7            India   Asia-Pacific        12614       112.312065   \n",
       "8            Korea   Asia-Pacific         7302        85.451741   \n",
       "9        Australia   Asia-Pacific         7202        84.864598   \n",
       "10         Germany         Europe        14660       121.078487   \n",
       "11  United Kingdom         Europe        14341       119.753914   \n",
       "12          France         Europe        13729       117.170815   \n",
       "13           Italy         Europe        11358       106.573918   \n",
       "14           Spain         Europe         7772        88.158947   \n",
       "15          Brazil  Latin America         3535        59.455866   \n",
       "16          Mexico  Latin America         2701        51.971146   \n",
       "17           Chile  Latin America          759        27.549955   \n",
       "18        Colombia  Latin America          562        23.706539   \n",
       "19            Peru  Latin America          377        19.416488   \n",
       "20   United States  North America       105990       325.561054   \n",
       "21          Canada  North America         8573        92.590496   \n",
       "22         Bermuda  North America           23         4.795832   \n",
       "23       Greenland  North America           21         4.582576   \n",
       "\n",
       "    cbrtWealth ($B)  \n",
       "0          9.647737  \n",
       "1          9.165656  \n",
       "2          7.623152  \n",
       "3          6.731315  \n",
       "4          6.316360  \n",
       "5         39.963926  \n",
       "6         29.237058  \n",
       "7         23.278283  \n",
       "8         19.400546  \n",
       "9         19.311575  \n",
       "10        24.474359  \n",
       "11        24.295536  \n",
       "12        23.944897  \n",
       "13        22.478498  \n",
       "14        19.808166  \n",
       "15        15.233387  \n",
       "16        13.926485  \n",
       "17         9.121801  \n",
       "18         8.252372  \n",
       "19         7.224045  \n",
       "20        47.324747  \n",
       "21        20.466533  \n",
       "22         2.843867  \n",
       "23         2.758924  "
      ]
     },
     "execution_count": 44,
     "metadata": {},
     "output_type": "execute_result"
    }
   ],
   "source": [
    "df1.groupby('Region').apply(lambda x: x.sort_values(by = 'Wealth ($B)', ascending=False).head(5)).reset_index(drop=True)"
   ]
  },
  {
   "cell_type": "code",
   "execution_count": 93,
   "metadata": {},
   "outputs": [
    {
     "data": {
      "text/html": [
       "<div>\n",
       "<style scoped>\n",
       "    .dataframe tbody tr th:only-of-type {\n",
       "        vertical-align: middle;\n",
       "    }\n",
       "\n",
       "    .dataframe tbody tr th {\n",
       "        vertical-align: top;\n",
       "    }\n",
       "\n",
       "    .dataframe thead th {\n",
       "        text-align: right;\n",
       "    }\n",
       "</style>\n",
       "<table border=\"1\" class=\"dataframe\">\n",
       "  <thead>\n",
       "    <tr style=\"text-align: right;\">\n",
       "      <th></th>\n",
       "      <th>Region</th>\n",
       "      <th>Country</th>\n",
       "      <th>Wealth ($B)</th>\n",
       "      <th>sqrtWealth ($B)</th>\n",
       "      <th>cbrtWealth ($B)</th>\n",
       "    </tr>\n",
       "  </thead>\n",
       "  <tbody>\n",
       "    <tr>\n",
       "      <th>0</th>\n",
       "      <td>Africa</td>\n",
       "      <td>Egypt</td>\n",
       "      <td>898</td>\n",
       "      <td>29.966648</td>\n",
       "      <td>9.647737</td>\n",
       "    </tr>\n",
       "    <tr>\n",
       "      <th>1</th>\n",
       "      <td>Africa</td>\n",
       "      <td>Nigeria</td>\n",
       "      <td>443</td>\n",
       "      <td>21.047565</td>\n",
       "      <td>7.623152</td>\n",
       "    </tr>\n",
       "    <tr>\n",
       "      <th>2</th>\n",
       "      <td>Africa</td>\n",
       "      <td>Other</td>\n",
       "      <td>2004</td>\n",
       "      <td>248.376255</td>\n",
       "      <td>136.318928</td>\n",
       "    </tr>\n",
       "    <tr>\n",
       "      <th>3</th>\n",
       "      <td>Africa</td>\n",
       "      <td>South Africa</td>\n",
       "      <td>770</td>\n",
       "      <td>27.748874</td>\n",
       "      <td>9.165656</td>\n",
       "    </tr>\n",
       "    <tr>\n",
       "      <th>4</th>\n",
       "      <td>Asia-Pacific</td>\n",
       "      <td>China</td>\n",
       "      <td>63827</td>\n",
       "      <td>252.640060</td>\n",
       "      <td>39.963926</td>\n",
       "    </tr>\n",
       "    <tr>\n",
       "      <th>5</th>\n",
       "      <td>Asia-Pacific</td>\n",
       "      <td>India</td>\n",
       "      <td>12614</td>\n",
       "      <td>112.312065</td>\n",
       "      <td>23.278283</td>\n",
       "    </tr>\n",
       "    <tr>\n",
       "      <th>6</th>\n",
       "      <td>Asia-Pacific</td>\n",
       "      <td>Japan</td>\n",
       "      <td>24992</td>\n",
       "      <td>158.088583</td>\n",
       "      <td>29.237058</td>\n",
       "    </tr>\n",
       "    <tr>\n",
       "      <th>7</th>\n",
       "      <td>Asia-Pacific</td>\n",
       "      <td>Other</td>\n",
       "      <td>39768</td>\n",
       "      <td>1050.940914</td>\n",
       "      <td>362.086615</td>\n",
       "    </tr>\n",
       "    <tr>\n",
       "      <th>8</th>\n",
       "      <td>Europe</td>\n",
       "      <td>France</td>\n",
       "      <td>13729</td>\n",
       "      <td>117.170815</td>\n",
       "      <td>23.944897</td>\n",
       "    </tr>\n",
       "    <tr>\n",
       "      <th>9</th>\n",
       "      <td>Europe</td>\n",
       "      <td>Germany</td>\n",
       "      <td>14660</td>\n",
       "      <td>121.078487</td>\n",
       "      <td>24.474359</td>\n",
       "    </tr>\n",
       "    <tr>\n",
       "      <th>10</th>\n",
       "      <td>Europe</td>\n",
       "      <td>Other</td>\n",
       "      <td>47917</td>\n",
       "      <td>1034.312569</td>\n",
       "      <td>327.011090</td>\n",
       "    </tr>\n",
       "    <tr>\n",
       "      <th>11</th>\n",
       "      <td>Europe</td>\n",
       "      <td>United Kingdom</td>\n",
       "      <td>14341</td>\n",
       "      <td>119.753914</td>\n",
       "      <td>24.295536</td>\n",
       "    </tr>\n",
       "    <tr>\n",
       "      <th>12</th>\n",
       "      <td>Latin America</td>\n",
       "      <td>Brazil</td>\n",
       "      <td>3535</td>\n",
       "      <td>59.455866</td>\n",
       "      <td>15.233387</td>\n",
       "    </tr>\n",
       "    <tr>\n",
       "      <th>13</th>\n",
       "      <td>Latin America</td>\n",
       "      <td>Chile</td>\n",
       "      <td>759</td>\n",
       "      <td>27.549955</td>\n",
       "      <td>9.121801</td>\n",
       "    </tr>\n",
       "    <tr>\n",
       "      <th>14</th>\n",
       "      <td>Latin America</td>\n",
       "      <td>Mexico</td>\n",
       "      <td>2701</td>\n",
       "      <td>51.971146</td>\n",
       "      <td>13.926485</td>\n",
       "    </tr>\n",
       "    <tr>\n",
       "      <th>15</th>\n",
       "      <td>Latin America</td>\n",
       "      <td>Other</td>\n",
       "      <td>2909</td>\n",
       "      <td>247.134824</td>\n",
       "      <td>118.970654</td>\n",
       "    </tr>\n",
       "    <tr>\n",
       "      <th>16</th>\n",
       "      <td>North America</td>\n",
       "      <td>Bermuda</td>\n",
       "      <td>23</td>\n",
       "      <td>4.795832</td>\n",
       "      <td>2.843867</td>\n",
       "    </tr>\n",
       "    <tr>\n",
       "      <th>17</th>\n",
       "      <td>North America</td>\n",
       "      <td>Canada</td>\n",
       "      <td>8573</td>\n",
       "      <td>92.590496</td>\n",
       "      <td>20.466533</td>\n",
       "    </tr>\n",
       "    <tr>\n",
       "      <th>18</th>\n",
       "      <td>North America</td>\n",
       "      <td>Other</td>\n",
       "      <td>21</td>\n",
       "      <td>4.582576</td>\n",
       "      <td>2.758924</td>\n",
       "    </tr>\n",
       "    <tr>\n",
       "      <th>19</th>\n",
       "      <td>North America</td>\n",
       "      <td>United States</td>\n",
       "      <td>105990</td>\n",
       "      <td>325.561054</td>\n",
       "      <td>47.324747</td>\n",
       "    </tr>\n",
       "  </tbody>\n",
       "</table>\n",
       "</div>"
      ],
      "text/plain": [
       "           Region         Country  Wealth ($B)  sqrtWealth ($B)  \\\n",
       "0          Africa           Egypt          898        29.966648   \n",
       "1          Africa         Nigeria          443        21.047565   \n",
       "2          Africa           Other         2004       248.376255   \n",
       "3          Africa    South Africa          770        27.748874   \n",
       "4    Asia-Pacific           China        63827       252.640060   \n",
       "5    Asia-Pacific           India        12614       112.312065   \n",
       "6    Asia-Pacific           Japan        24992       158.088583   \n",
       "7    Asia-Pacific           Other        39768      1050.940914   \n",
       "8          Europe          France        13729       117.170815   \n",
       "9          Europe         Germany        14660       121.078487   \n",
       "10         Europe           Other        47917      1034.312569   \n",
       "11         Europe  United Kingdom        14341       119.753914   \n",
       "12  Latin America          Brazil         3535        59.455866   \n",
       "13  Latin America           Chile          759        27.549955   \n",
       "14  Latin America          Mexico         2701        51.971146   \n",
       "15  Latin America           Other         2909       247.134824   \n",
       "16  North America         Bermuda           23         4.795832   \n",
       "17  North America          Canada         8573        92.590496   \n",
       "18  North America           Other           21         4.582576   \n",
       "19  North America   United States       105990       325.561054   \n",
       "\n",
       "    cbrtWealth ($B)  \n",
       "0          9.647737  \n",
       "1          7.623152  \n",
       "2        136.318928  \n",
       "3          9.165656  \n",
       "4         39.963926  \n",
       "5         23.278283  \n",
       "6         29.237058  \n",
       "7        362.086615  \n",
       "8         23.944897  \n",
       "9         24.474359  \n",
       "10       327.011090  \n",
       "11        24.295536  \n",
       "12        15.233387  \n",
       "13         9.121801  \n",
       "14        13.926485  \n",
       "15       118.970654  \n",
       "16         2.843867  \n",
       "17        20.466533  \n",
       "18         2.758924  \n",
       "19        47.324747  "
      ]
     },
     "execution_count": 93,
     "metadata": {},
     "output_type": "execute_result"
    }
   ],
   "source": [
    "df_top5 = df1.groupby('Region').apply(lambda x: x.replace(x.sort_values(by = 'Wealth ($B)', ascending=False)['Country'][3:].tolist(), 'Other').groupby('Country').sum()).reset_index()\n",
    "\n",
    "df_top5"
   ]
  },
  {
   "cell_type": "markdown",
   "metadata": {},
   "source": [
    "Americans born in 1963-1967 and 1981-present have spent the majority of their lives in wartime.\n",
    "\n",
    "#### Reverse Engineering Specific War Dates and Statistics"
   ]
  },
  {
   "cell_type": "markdown",
   "metadata": {},
   "source": [
    "We see here how different wars extended wartime experience for Americans. The Vietnam War and Afghanistan Wars are distinctly long. We also see here that the Vietnam War manages to temporarily push the percentage in wartime above 50% for a short period in the mid 1960s before the percentage resurges in peacetime births near the Afghanistan War. "
   ]
  },
  {
   "cell_type": "markdown",
   "metadata": {},
   "source": [
    "### Deeper Data Graph:"
   ]
  },
  {
   "cell_type": "code",
   "execution_count": 145,
   "metadata": {},
   "outputs": [
    {
     "data": {
      "image/png": "[encoded data removed]",
      "text/plain": [
       "<Figure size 432x288 with 1 Axes>"
      ]
     },
     "metadata": {},
     "output_type": "display_data"
    }
   ],
   "source": [
    "plt.rcParams.update({'font.size': 30})\n",
    "\n",
    "fig, ax = plt.subplots()\n",
    "\n",
    "size = .3\n",
    "vals = np.array([[60., 32.], [37., 40.], [29., 10.], [60., 40.], [100., 10.]])\n",
    "\n",
    "cmap = plt.get_cmap(\"tab20b\")\n",
    "outer_colors = cmap(np.arange(5)*4)\n",
    "inner_colors = cmap(np.arange(20))\n",
    "\n",
    "pie_outer, _ = ax.pie(df_agg['Wealth ($B)'], radius=2, colors=outer_colors, labels = df_agg.reset_index()['Region'].tolist(),\n",
    "       wedgeprops=dict(width=size, edgecolor='w'))\n",
    "\n",
    "pie_inner, _ = ax.pie(df_top5['Wealth ($B)'], radius=2-size, colors=inner_colors, labels = df_top5['Country'].tolist(),\n",
    "       wedgeprops=dict(width=size, edgecolor='w'))\n",
    "\n",
    "handles, labels = ax.get_legend_handles_labels()\n",
    "ax.legend(handles[5:], subgroup_names_legs, loc=(6, 0))\n",
    "\n",
    "ax.set(aspect=\"equal\", title='Pie plot with `ax.pie`')\n",
    "plt.show()\n",
    "\n"
   ]
  },
  {
   "cell_type": "markdown",
   "metadata": {},
   "source": [
    "### Tableau Graph:\n",
    "\n",
    "My Tableau graph is published [here](https://public.tableau.com/views/2020W6-US_Wartime_Living/USWartimeLife?:display_count=y&publish=yes&:origin=viz_share_link)."
   ]
  }
 ],
 "metadata": {
  "kernelspec": {
   "display_name": "Python 3",
   "language": "python",
   "name": "python3"
  },
  "language_info": {
   "codemirror_mode": {
    "name": "ipython",
    "version": 3
   },
   "file_extension": ".py",
   "mimetype": "text/x-python",
   "name": "python",
   "nbconvert_exporter": "python",
   "pygments_lexer": "ipython3",
   "version": "3.7.3"
  }
 },
 "nbformat": 4,
 "nbformat_minor": 2
}
